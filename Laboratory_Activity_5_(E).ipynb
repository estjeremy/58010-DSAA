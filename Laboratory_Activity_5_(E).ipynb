{
  "nbformat": 4,
  "nbformat_minor": 0,
  "metadata": {
    "colab": {
      "provenance": [],
      "authorship_tag": "ABX9TyN6KiuBbU+FdphjGqbXIGGN",
      "include_colab_link": true
    },
    "kernelspec": {
      "name": "python3",
      "display_name": "Python 3"
    },
    "language_info": {
      "name": "python"
    }
  },
  "cells": [
    {
      "cell_type": "markdown",
      "metadata": {
        "id": "view-in-github",
        "colab_type": "text"
      },
      "source": [
        "<a href=\"https://colab.research.google.com/github/estjeremy/58010-DSAA/blob/main/Laboratory_Activity_5_(E).ipynb\" target=\"_parent\"><img src=\"https://colab.research.google.com/assets/colab-badge.svg\" alt=\"Open In Colab\"/></a>"
      ]
    },
    {
      "cell_type": "code",
      "execution_count": 1,
      "metadata": {
        "colab": {
          "base_uri": "https://localhost:8080/"
        },
        "id": "hdTmdSrH1NQB",
        "outputId": "adf4f4f2-7d89-4dc7-de00-ddb748a5f89b"
      },
      "outputs": [
        {
          "output_type": "stream",
          "name": "stdout",
          "text": [
            "Length of the array: 5\n"
          ]
        }
      ],
      "source": [
        "numbers = [5, 4, 3, 2, 1]\n",
        "\n",
        "array_length = len(numbers)\n",
        "\n",
        "print(\"Length of the array:\", array_length)"
      ]
    }
  ]
}