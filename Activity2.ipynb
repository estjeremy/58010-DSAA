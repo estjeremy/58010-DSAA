{
  "nbformat": 4,
  "nbformat_minor": 0,
  "metadata": {
    "colab": {
      "provenance": [],
      "include_colab_link": true
    },
    "kernelspec": {
      "name": "python3",
      "display_name": "Python 3"
    },
    "language_info": {
      "name": "python"
    }
  },
  "cells": [
    {
      "cell_type": "markdown",
      "metadata": {
        "id": "view-in-github",
        "colab_type": "text"
      },
      "source": [
        "<a href=\"https://colab.research.google.com/github/estjeremy/58010-DSAA/blob/main/Activity2.ipynb\" target=\"_parent\"><img src=\"https://colab.research.google.com/assets/colab-badge.svg\" alt=\"Open In Colab\"/></a>"
      ]
    },
    {
      "cell_type": "code",
      "execution_count": null,
      "metadata": {
        "colab": {
          "base_uri": "https://localhost:8080/"
        },
        "id": "-LrrIb5eqP9U",
        "outputId": "bcecc4fd-a0cd-4aa4-89ad-63bd34b0f8c6"
      },
      "outputs": [
        {
          "output_type": "stream",
          "name": "stdout",
          "text": [
            "Prime Numbers:\n",
            "2 3 5 7 11 13 17 19 \n",
            "Head of the List: 2\n",
            "Tail of the List: 19\n"
          ]
        }
      ],
      "source": [
        "class Node:\n",
        "    def __init__(self, data):\n",
        "        self.data = data\n",
        "        self.next = None\n",
        "\n",
        "class LinkedList:\n",
        "    def __init__(self):\n",
        "        self.head = None\n",
        "        self.tail = None\n",
        "\n",
        "    def append(self, data):\n",
        "        new_node = Node(data)\n",
        "        if not self.head:\n",
        "            self.head = new_node\n",
        "            self.tail = new_node\n",
        "        else:\n",
        "            self.tail.next = new_node\n",
        "            self.tail = new_node\n",
        "\n",
        "def is_prime(num):\n",
        "    if num <= 1:\n",
        "        return False\n",
        "    if num == 2:\n",
        "        return True\n",
        "    if num % 2 == 0:\n",
        "        return False\n",
        "    for i in range(3, int(num**0.5) + 1, 2):\n",
        "        if num % i == 0:\n",
        "            return False\n",
        "    return True\n",
        "\n",
        "# Create a linked list of prime numbers less than 20\n",
        "prime_list = LinkedList()\n",
        "\n",
        "for i in range(2, 20):\n",
        "    if is_prime(i):\n",
        "        prime_list.append(i)\n",
        "\n",
        "# Display all the prime numbers\n",
        "current_node = prime_list.head\n",
        "print(\"Prime Numbers:\")\n",
        "while current_node:\n",
        "    print(current_node.data, end=\" \")\n",
        "    current_node = current_node.next\n",
        "\n",
        "# Display the head and tail of the list\n",
        "if prime_list.head:\n",
        "    print(\"\\nHead of the List:\", prime_list.head.data)\n",
        "if prime_list.tail:\n",
        "    print(\"Tail of the List:\", prime_list.tail.data)"
      ]
    }
  ]
}