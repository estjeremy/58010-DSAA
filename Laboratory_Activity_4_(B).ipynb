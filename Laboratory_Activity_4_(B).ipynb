{
  "nbformat": 4,
  "nbformat_minor": 0,
  "metadata": {
    "colab": {
      "provenance": [],
      "authorship_tag": "ABX9TyP5e3AYS3lRCS24YKKI5xR/",
      "include_colab_link": true
    },
    "kernelspec": {
      "name": "python3",
      "display_name": "Python 3"
    },
    "language_info": {
      "name": "python"
    }
  },
  "cells": [
    {
      "cell_type": "markdown",
      "metadata": {
        "id": "view-in-github",
        "colab_type": "text"
      },
      "source": [
        "<a href=\"https://colab.research.google.com/github/estjeremy/58010-DSAA/blob/main/Laboratory_Activity_4_(B).ipynb\" target=\"_parent\"><img src=\"https://colab.research.google.com/assets/colab-badge.svg\" alt=\"Open In Colab\"/></a>"
      ]
    },
    {
      "cell_type": "code",
      "execution_count": 1,
      "metadata": {
        "colab": {
          "base_uri": "https://localhost:8080/"
        },
        "id": "GSSjs1oqqh1z",
        "outputId": "6c7fd2c4-29ac-4099-fe67-fbc150a00692"
      },
      "outputs": [
        {
          "output_type": "stream",
          "name": "stdout",
          "text": [
            "Jrrg pruqlqj Pd'dp VdBr.\n"
          ]
        }
      ],
      "source": [
        "def caesar_cipher(message, shift):\n",
        "  alphabet = 'abcdefghijklmnopqrstuvwxyzABCDEFGHIJKLMNOPQRSTUVWXYZ'\n",
        "\n",
        "  encoded_message = ''\n",
        "\n",
        "  for char in message:\n",
        "    if char not in alphabet:\n",
        "      encoded_message += char\n",
        "    else:\n",
        "      index = alphabet.index(char)\n",
        "\n",
        "      new_index = (index + shift) % len(alphabet)\n",
        "\n",
        "      encoded_message += alphabet[new_index]\n",
        "\n",
        "  return encoded_message\n",
        "\n",
        "message = \"Good morning Ma'am Sayo.\"\n",
        "\n",
        "shift = 3\n",
        "\n",
        "encoded_message = caesar_cipher(message, shift)\n",
        "\n",
        "print(encoded_message)"
      ]
    }
  ]
}