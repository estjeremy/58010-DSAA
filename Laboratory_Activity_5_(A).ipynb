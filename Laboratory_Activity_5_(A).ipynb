{
  "nbformat": 4,
  "nbformat_minor": 0,
  "metadata": {
    "colab": {
      "provenance": [],
      "authorship_tag": "ABX9TyPdvOJ8CB9SMjgIrcgb31OG",
      "include_colab_link": true
    },
    "kernelspec": {
      "name": "python3",
      "display_name": "Python 3"
    },
    "language_info": {
      "name": "python"
    }
  },
  "cells": [
    {
      "cell_type": "markdown",
      "metadata": {
        "id": "view-in-github",
        "colab_type": "text"
      },
      "source": [
        "<a href=\"https://colab.research.google.com/github/estjeremy/58010-DSAA/blob/main/Laboratory_Activity_5_(A).ipynb\" target=\"_parent\"><img src=\"https://colab.research.google.com/assets/colab-badge.svg\" alt=\"Open In Colab\"/></a>"
      ]
    },
    {
      "cell_type": "code",
      "execution_count": 1,
      "metadata": {
        "colab": {
          "base_uri": "https://localhost:8080/"
        },
        "id": "DxBzKH2ytGZ2",
        "outputId": "fd401949-2056-4137-a418-29bcad6e8a6f"
      },
      "outputs": [
        {
          "output_type": "stream",
          "name": "stdout",
          "text": [
            "Array items: array('i', [1, 2, 3, 4, 5, 6, 7, 8, 9, 10])\n",
            "Individual elements:\n",
            "Index 0: 1\n",
            "Index 1: 2\n",
            "Index 2: 3\n",
            "Index 3: 4\n",
            "Index 4: 5\n",
            "Index 5: 6\n",
            "Index 6: 7\n",
            "Index 7: 8\n",
            "Index 8: 9\n",
            "Index 9: 10\n",
            "Sum of array elements: 55\n"
          ]
        }
      ],
      "source": [
        "from array import array\n",
        "\n",
        "my_array = array('i', [1, 2, 3, 4, 5, 6, 7, 8, 9, 10])\n",
        "\n",
        "print(\"Array items:\", my_array)\n",
        "\n",
        "print(\"Individual elements:\")\n",
        "for i in range(len(my_array)):\n",
        "    print(f\"Index {i}: {my_array[i]}\")\n",
        "\n",
        "array_sum = sum(my_array)\n",
        "print(\"Sum of array elements:\", array_sum)\n"
      ]
    }
  ]
}