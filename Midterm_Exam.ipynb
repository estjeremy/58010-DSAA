{
  "nbformat": 4,
  "nbformat_minor": 0,
  "metadata": {
    "colab": {
      "provenance": [],
      "authorship_tag": "ABX9TyOKO+925+ua5BZecUnR7ik+",
      "include_colab_link": true
    },
    "kernelspec": {
      "name": "python3",
      "display_name": "Python 3"
    },
    "language_info": {
      "name": "python"
    }
  },
  "cells": [
    {
      "cell_type": "markdown",
      "metadata": {
        "id": "view-in-github",
        "colab_type": "text"
      },
      "source": [
        "<a href=\"https://colab.research.google.com/github/estjeremy/58010-DSAA/blob/main/Midterm_Exam.ipynb\" target=\"_parent\"><img src=\"https://colab.research.google.com/assets/colab-badge.svg\" alt=\"Open In Colab\"/></a>"
      ]
    },
    {
      "cell_type": "code",
      "execution_count": 2,
      "metadata": {
        "colab": {
          "base_uri": "https://localhost:8080/"
        },
        "id": "s4oozPnWh81p",
        "outputId": "63a4b0a4-6ce9-4694-d77f-050e1dda7eb5"
      },
      "outputs": [
        {
          "output_type": "stream",
          "name": "stdout",
          "text": [
            "[{'a', 'b'}, {'c', 'b'}, {'b', 'e'}, {'f', 'b'}, {'c', 'd'}, {'c', 'e'}, {'c', 'f'}, {'c', 'i'}, {'k', 'd'}, {'f', 'g'}, {'f', 'i'}, {'i', 'g'}, {'j', 'g'}, {'i', 'j,'}, {'k', 'i'}, {'j', 'k'}, {'', 'k'}, {'l', 'd'}, {'m', 'l'}, {'m', 'c'}, {'m', 'n'}, {'m', 'o'}, {'m', 'p'}, {'o', 'n'}, {'o', 'p'}, {'l', 'p'}]\n"
          ]
        }
      ],
      "source": [
        "class Graph:\n",
        "   def __init__(self, gdict=None):\n",
        "      if gdict is None:\n",
        "         gdict = {}\n",
        "      self.gdict = gdict\n",
        "\n",
        "   def edges(self):\n",
        "      return self.find_edges()\n",
        "\n",
        "   def find_edges(self):\n",
        "      edge_list = []\n",
        "      for vertex in self.gdict:\n",
        "         for next_vertex in self.gdict[vertex]:\n",
        "            if {next_vertex, vertex} not in edge_list:\n",
        "               edge_list.append({vertex, next_vertex})\n",
        "      return edge_list\n",
        "\n",
        "# Create the dictionary with graph elements\n",
        "graph_elements = {\n",
        "   \"a\": [\"b\"],\n",
        "   \"b\": [\"c\", \"e\",\"f\"],\n",
        "   \"c\": [\"d\", \"e\", \"f\",\"i\"],\n",
        "   \"d\": [\"k\"],\n",
        "   \"e\": [\"c\"],\n",
        "   \"f\": [\"g\", \"i\", \"c\"],\n",
        "   \"g\": [\"i\",\"j\"],\n",
        "   \"i\": [\"g\",\"j,\",\"k\"],\n",
        "   \"j\": [\"g\",\"k\"],\n",
        "   \"k\": [\"\"],\n",
        "   \"l\": [\"d\",\"m\"],\n",
        "   \"m\": [\"c\",\"l\",\"n\",\"o\",\"p\"],\n",
        "   \"n\": [\"m\"],\n",
        "   \"o\": [\"m\",\"n\",\"p\"],\n",
        "   \"p\": [\"l\",\"m\"],\n",
        "\n",
        "\n",
        "}\n",
        "\n",
        "g = Graph(graph_elements)\n",
        "print(g.edges())\n"
      ]
    }
  ]
}