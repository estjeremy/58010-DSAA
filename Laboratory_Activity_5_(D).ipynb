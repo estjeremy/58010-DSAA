{
  "nbformat": 4,
  "nbformat_minor": 0,
  "metadata": {
    "colab": {
      "provenance": [],
      "authorship_tag": "ABX9TyOjuGeebZos+LiO4SkoeBSt",
      "include_colab_link": true
    },
    "kernelspec": {
      "name": "python3",
      "display_name": "Python 3"
    },
    "language_info": {
      "name": "python"
    }
  },
  "cells": [
    {
      "cell_type": "markdown",
      "metadata": {
        "id": "view-in-github",
        "colab_type": "text"
      },
      "source": [
        "<a href=\"https://colab.research.google.com/github/estjeremy/58010-DSAA/blob/main/Laboratory_Activity_5_(D).ipynb\" target=\"_parent\"><img src=\"https://colab.research.google.com/assets/colab-badge.svg\" alt=\"Open In Colab\"/></a>"
      ]
    },
    {
      "cell_type": "code",
      "execution_count": 1,
      "metadata": {
        "id": "6mKtGN8uxgat",
        "colab": {
          "base_uri": "https://localhost:8080/"
        },
        "outputId": "a2a2a297-cf72-44c5-effb-75d4b47d3d51"
      },
      "outputs": [
        {
          "output_type": "stream",
          "name": "stdout",
          "text": [
            "Original array: array('i', [5, 4, 3, 2, 1])\n",
            "Reversed array: array('i', [1, 2, 3, 4, 5])\n"
          ]
        }
      ],
      "source": [
        "from array import array\n",
        "\n",
        "numbers = array('i', [5, 4, 3, 2, 1])\n",
        "\n",
        "print(\"Original array:\", numbers)\n",
        "\n",
        "numbers.reverse()\n",
        "\n",
        "print(\"Reversed array:\", numbers)\n"
      ]
    }
  ]
}