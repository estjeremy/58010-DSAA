{
  "nbformat": 4,
  "nbformat_minor": 0,
  "metadata": {
    "colab": {
      "provenance": [],
      "authorship_tag": "ABX9TyPoVqZfegl9xf+tdzc/vTZj",
      "include_colab_link": true
    },
    "kernelspec": {
      "name": "python3",
      "display_name": "Python 3"
    },
    "language_info": {
      "name": "python"
    }
  },
  "cells": [
    {
      "cell_type": "markdown",
      "metadata": {
        "id": "view-in-github",
        "colab_type": "text"
      },
      "source": [
        "<a href=\"https://colab.research.google.com/github/estjeremy/58010-DSAA/blob/main/Long_Quiz_2.ipynb\" target=\"_parent\"><img src=\"https://colab.research.google.com/assets/colab-badge.svg\" alt=\"Open In Colab\"/></a>"
      ]
    },
    {
      "cell_type": "code",
      "execution_count": 3,
      "metadata": {
        "colab": {
          "base_uri": "https://localhost:8080/"
        },
        "id": "-n8R-YinGEX-",
        "outputId": "6e420592-2ddf-4fa7-d0c0-f17329dbda31"
      },
      "outputs": [
        {
          "output_type": "stream",
          "name": "stdout",
          "text": [
            "[{'e', 'j'}, {'e', 'm'}, {'e', 'k'}, {'f', 'i'}, {'f', 'p'}, {'i', 'h'}, {'j', 'h'}, {'k', 'h'}, {'e', 'i'}, {'f', 'j'}, {'k', 'f'}]\n"
          ]
        }
      ],
      "source": [
        "#Display Graph Edges\n",
        "\n",
        "class graph:\n",
        "   def __init__(self,gdict=None):\n",
        "      if gdict is None:\n",
        "         gdict = {}\n",
        "      self.gdict = gdict\n",
        "\n",
        "   def edges(self):\n",
        "      return self.findedges()\n",
        "# Find the distinct list of edges\n",
        "   def findedges(self):\n",
        "      edgename = []\n",
        "      for vrtx in self.gdict:\n",
        "         for nxtvrtx in self.gdict[vrtx]:\n",
        "            if {nxtvrtx, vrtx} not in edgename:\n",
        "               edgename.append({vrtx, nxtvrtx})\n",
        "      return edgename\n",
        "# Create the dictionary with graph elements\n",
        "graph_elements = {\n",
        "   \"e\" : [\"j\",\"m\",\"k\"],\n",
        "   \"f\" : [\"i\",\"p\"],\n",
        "   \"h\" : [\"i\",\"j\", \"k\"],\n",
        "   \"i\" : [\"f\",\"e\"],\n",
        "   \"j\" : [\"h\", \"f\",\"e\"],\n",
        "   \"k\" : [\"h\",\"f\",\"e\"],\n",
        "   \"m\" : [\"e\",],\n",
        "   \"p\" : [\"f\"],\n",
        "}\n",
        "g = graph(graph_elements)\n",
        "print(g.edges())"
      ]
    }
  ]
}