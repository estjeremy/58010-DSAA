{
  "nbformat": 4,
  "nbformat_minor": 0,
  "metadata": {
    "colab": {
      "provenance": [],
      "authorship_tag": "ABX9TyNlQQ9TqezR6yHy8tBBsUuS",
      "include_colab_link": true
    },
    "kernelspec": {
      "name": "python3",
      "display_name": "Python 3"
    },
    "language_info": {
      "name": "python"
    }
  },
  "cells": [
    {
      "cell_type": "markdown",
      "metadata": {
        "id": "view-in-github",
        "colab_type": "text"
      },
      "source": [
        "<a href=\"https://colab.research.google.com/github/estjeremy/58010-DSAA/blob/main/Laboratory_Activity_5_(B).ipynb\" target=\"_parent\"><img src=\"https://colab.research.google.com/assets/colab-badge.svg\" alt=\"Open In Colab\"/></a>"
      ]
    },
    {
      "cell_type": "code",
      "execution_count": 1,
      "metadata": {
        "colab": {
          "base_uri": "https://localhost:8080/"
        },
        "id": "UKG4nylFuzLN",
        "outputId": "85ce2f71-3520-4986-88f9-cbefef0221c4"
      },
      "outputs": [
        {
          "output_type": "stream",
          "name": "stdout",
          "text": [
            "Original array: array('i', [1, 2, 3, 4, 5, 6, 7, 8, 9, 10])\n",
            "Modified array after appending: array('i', [1, 2, 3, 4, 5, 6, 7, 8, 9, 10, 11])\n"
          ]
        }
      ],
      "source": [
        "from array import array\n",
        "\n",
        "numbers = array('i', [1, 2, 3, 4, 5, 6, 7, 8, 9, 10])\n",
        "\n",
        "print(\"Original array:\", numbers)\n",
        "\n",
        "new_item = 11\n",
        "numbers.append(new_item)\n",
        "\n",
        "print(\"Modified array after appending:\", numbers)"
      ]
    }
  ]
}